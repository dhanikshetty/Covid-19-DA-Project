{
 "metadata": {
  "language_info": {
   "codemirror_mode": {
    "name": "ipython",
    "version": 3
   },
   "file_extension": ".py",
   "mimetype": "text/x-python",
   "name": "python",
   "nbconvert_exporter": "python",
   "pygments_lexer": "ipython3",
   "version": "3.8.3-final"
  },
  "orig_nbformat": 2,
  "kernelspec": {
   "name": "Python 3.8.3 64-bit ('base': conda)",
   "display_name": "Python 3.8.3 64-bit ('base': conda)",
   "metadata": {
    "interpreter": {
     "hash": "c13841a41802481553dd0df78ee3bbab924ab6a8916a3f7e41eaf686d02eb94d"
    }
   }
  }
 },
 "nbformat": 4,
 "nbformat_minor": 2,
 "cells": [
  {
   "cell_type": "code",
   "execution_count": 1,
   "metadata": {},
   "outputs": [],
   "source": [
    "# Import packages\n",
    "import numpy as np\n",
    "import pandas as pd\n",
    "import matplotlib.pyplot as plt\n",
    "import seaborn as sns\n",
    "import plotly\n",
    "import chart_studio.plotly as py\n",
    "import plotly.graph_objects as go\n",
    "from pandas_datareader import data as web \n",
    "from datetime import datetime as dt\n",
    "#import plotly.offline as py\n",
    "# Set style & figures inline\n",
    "sns.set()\n",
    "%matplotlib inline"
   ]
  },
  {
   "cell_type": "code",
   "execution_count": 2,
   "metadata": {},
   "outputs": [],
   "source": [
    "df= pd.read_csv( 'covid_19_data.csv')"
   ]
  },
  {
   "cell_type": "code",
   "execution_count": 3,
   "metadata": {},
   "outputs": [
    {
     "output_type": "execute_result",
     "data": {
      "text/plain": [
       "           SNo ObservationDate     Province/State  Country/Region  \\\n",
       "116800  116801      09/23/2020  Zaporizhia Oblast         Ukraine   \n",
       "116801  116802      09/23/2020            Zeeland     Netherlands   \n",
       "116802  116803      09/23/2020           Zhejiang  Mainland China   \n",
       "116803  116804      09/23/2020    Zhytomyr Oblast         Ukraine   \n",
       "116804  116805      09/23/2020       Zuid-Holland     Netherlands   \n",
       "\n",
       "                Last Update  Confirmed  Deaths  Recovered  \n",
       "116800  2020-09-24 04:23:38     3149.0    49.0     1158.0  \n",
       "116801  2020-09-24 04:23:38     1270.0    72.0        0.0  \n",
       "116802  2020-09-24 04:23:38     1282.0     1.0     1272.0  \n",
       "116803  2020-09-24 04:23:38     5191.0    92.0     2853.0  \n",
       "116804  2020-09-24 04:23:38    29513.0  1372.0        0.0  "
      ],
      "text/html": "<div>\n<style scoped>\n    .dataframe tbody tr th:only-of-type {\n        vertical-align: middle;\n    }\n\n    .dataframe tbody tr th {\n        vertical-align: top;\n    }\n\n    .dataframe thead th {\n        text-align: right;\n    }\n</style>\n<table border=\"1\" class=\"dataframe\">\n  <thead>\n    <tr style=\"text-align: right;\">\n      <th></th>\n      <th>SNo</th>\n      <th>ObservationDate</th>\n      <th>Province/State</th>\n      <th>Country/Region</th>\n      <th>Last Update</th>\n      <th>Confirmed</th>\n      <th>Deaths</th>\n      <th>Recovered</th>\n    </tr>\n  </thead>\n  <tbody>\n    <tr>\n      <th>116800</th>\n      <td>116801</td>\n      <td>09/23/2020</td>\n      <td>Zaporizhia Oblast</td>\n      <td>Ukraine</td>\n      <td>2020-09-24 04:23:38</td>\n      <td>3149.0</td>\n      <td>49.0</td>\n      <td>1158.0</td>\n    </tr>\n    <tr>\n      <th>116801</th>\n      <td>116802</td>\n      <td>09/23/2020</td>\n      <td>Zeeland</td>\n      <td>Netherlands</td>\n      <td>2020-09-24 04:23:38</td>\n      <td>1270.0</td>\n      <td>72.0</td>\n      <td>0.0</td>\n    </tr>\n    <tr>\n      <th>116802</th>\n      <td>116803</td>\n      <td>09/23/2020</td>\n      <td>Zhejiang</td>\n      <td>Mainland China</td>\n      <td>2020-09-24 04:23:38</td>\n      <td>1282.0</td>\n      <td>1.0</td>\n      <td>1272.0</td>\n    </tr>\n    <tr>\n      <th>116803</th>\n      <td>116804</td>\n      <td>09/23/2020</td>\n      <td>Zhytomyr Oblast</td>\n      <td>Ukraine</td>\n      <td>2020-09-24 04:23:38</td>\n      <td>5191.0</td>\n      <td>92.0</td>\n      <td>2853.0</td>\n    </tr>\n    <tr>\n      <th>116804</th>\n      <td>116805</td>\n      <td>09/23/2020</td>\n      <td>Zuid-Holland</td>\n      <td>Netherlands</td>\n      <td>2020-09-24 04:23:38</td>\n      <td>29513.0</td>\n      <td>1372.0</td>\n      <td>0.0</td>\n    </tr>\n  </tbody>\n</table>\n</div>"
     },
     "metadata": {},
     "execution_count": 3
    }
   ],
   "source": [
    "df.tail(5)"
   ]
  },
  {
   "cell_type": "code",
   "execution_count": 4,
   "metadata": {
    "tags": []
   },
   "outputs": [
    {
     "output_type": "stream",
     "name": "stdout",
     "text": [
      "<class 'pandas.core.frame.DataFrame'>\nRangeIndex: 116805 entries, 0 to 116804\nData columns (total 8 columns):\n #   Column           Non-Null Count   Dtype  \n---  ------           --------------   -----  \n 0   SNo              116805 non-null  int64  \n 1   ObservationDate  116805 non-null  object \n 2   Province/State   81452 non-null   object \n 3   Country/Region   116805 non-null  object \n 4   Last Update      116805 non-null  object \n 5   Confirmed        116805 non-null  float64\n 6   Deaths           116805 non-null  float64\n 7   Recovered        116805 non-null  float64\ndtypes: float64(3), int64(1), object(4)\nmemory usage: 7.1+ MB\n"
     ]
    }
   ],
   "source": [
    "df.info()\n"
   ]
  },
  {
   "cell_type": "code",
   "execution_count": 5,
   "metadata": {},
   "outputs": [],
   "source": [
    "#float_col = df.select_dtypes(include=['float64']) # This will select float columns only\n",
    "# list(float_col.columns.values)\n",
    "#for col in float_col.columns.values:\n",
    "#    df[col] = df[col].astype('int64')"
   ]
  },
  {
   "cell_type": "code",
   "execution_count": 6,
   "metadata": {
    "tags": []
   },
   "outputs": [
    {
     "output_type": "stream",
     "name": "stdout",
     "text": [
      "<class 'pandas.core.frame.DataFrame'>\nRangeIndex: 116805 entries, 0 to 116804\nData columns (total 8 columns):\n #   Column           Non-Null Count   Dtype  \n---  ------           --------------   -----  \n 0   SNo              116805 non-null  int64  \n 1   ObservationDate  116805 non-null  object \n 2   Province/State   81452 non-null   object \n 3   Country/Region   116805 non-null  object \n 4   Last Update      116805 non-null  object \n 5   Confirmed        116805 non-null  float64\n 6   Deaths           116805 non-null  float64\n 7   Recovered        116805 non-null  float64\ndtypes: float64(3), int64(1), object(4)\nmemory usage: 7.1+ MB\n"
     ]
    }
   ],
   "source": [
    "df.info()"
   ]
  },
  {
   "cell_type": "code",
   "execution_count": 7,
   "metadata": {},
   "outputs": [
    {
     "output_type": "execute_result",
     "data": {
      "text/plain": [
       "                 SNo     Confirmed         Deaths     Recovered\n",
       "count  116805.000000  1.168050e+05  116805.000000  1.168050e+05\n",
       "mean    58403.000000  1.908217e+04     777.745473  1.117002e+04\n",
       "std     33718.843434  5.825465e+04    2859.184068  6.258701e+04\n",
       "min         1.000000  0.000000e+00       0.000000  0.000000e+00\n",
       "25%     29202.000000  2.450000e+02       3.000000  4.000000e+00\n",
       "50%     58403.000000  2.148000e+03      42.000000  4.260000e+02\n",
       "75%     87604.000000  1.037400e+04     331.000000  3.829000e+03\n",
       "max    116805.000000  1.242770e+06   42072.000000  2.670256e+06"
      ],
      "text/html": "<div>\n<style scoped>\n    .dataframe tbody tr th:only-of-type {\n        vertical-align: middle;\n    }\n\n    .dataframe tbody tr th {\n        vertical-align: top;\n    }\n\n    .dataframe thead th {\n        text-align: right;\n    }\n</style>\n<table border=\"1\" class=\"dataframe\">\n  <thead>\n    <tr style=\"text-align: right;\">\n      <th></th>\n      <th>SNo</th>\n      <th>Confirmed</th>\n      <th>Deaths</th>\n      <th>Recovered</th>\n    </tr>\n  </thead>\n  <tbody>\n    <tr>\n      <th>count</th>\n      <td>116805.000000</td>\n      <td>1.168050e+05</td>\n      <td>116805.000000</td>\n      <td>1.168050e+05</td>\n    </tr>\n    <tr>\n      <th>mean</th>\n      <td>58403.000000</td>\n      <td>1.908217e+04</td>\n      <td>777.745473</td>\n      <td>1.117002e+04</td>\n    </tr>\n    <tr>\n      <th>std</th>\n      <td>33718.843434</td>\n      <td>5.825465e+04</td>\n      <td>2859.184068</td>\n      <td>6.258701e+04</td>\n    </tr>\n    <tr>\n      <th>min</th>\n      <td>1.000000</td>\n      <td>0.000000e+00</td>\n      <td>0.000000</td>\n      <td>0.000000e+00</td>\n    </tr>\n    <tr>\n      <th>25%</th>\n      <td>29202.000000</td>\n      <td>2.450000e+02</td>\n      <td>3.000000</td>\n      <td>4.000000e+00</td>\n    </tr>\n    <tr>\n      <th>50%</th>\n      <td>58403.000000</td>\n      <td>2.148000e+03</td>\n      <td>42.000000</td>\n      <td>4.260000e+02</td>\n    </tr>\n    <tr>\n      <th>75%</th>\n      <td>87604.000000</td>\n      <td>1.037400e+04</td>\n      <td>331.000000</td>\n      <td>3.829000e+03</td>\n    </tr>\n    <tr>\n      <th>max</th>\n      <td>116805.000000</td>\n      <td>1.242770e+06</td>\n      <td>42072.000000</td>\n      <td>2.670256e+06</td>\n    </tr>\n  </tbody>\n</table>\n</div>"
     },
     "metadata": {},
     "execution_count": 7
    }
   ],
   "source": [
    "df.describe()"
   ]
  },
  {
   "cell_type": "code",
   "execution_count": 8,
   "metadata": {},
   "outputs": [
    {
     "output_type": "execute_result",
     "data": {
      "text/plain": [
       "         Date      State         Country  Confirmed  Deaths  Recovered\n",
       "0  01/22/2020      Anhui  Mainland China        1.0     0.0        0.0\n",
       "1  01/22/2020    Beijing  Mainland China       14.0     0.0        0.0\n",
       "2  01/22/2020  Chongqing  Mainland China        6.0     0.0        0.0\n",
       "3  01/22/2020     Fujian  Mainland China        1.0     0.0        0.0\n",
       "4  01/22/2020      Gansu  Mainland China        0.0     0.0        0.0"
      ],
      "text/html": "<div>\n<style scoped>\n    .dataframe tbody tr th:only-of-type {\n        vertical-align: middle;\n    }\n\n    .dataframe tbody tr th {\n        vertical-align: top;\n    }\n\n    .dataframe thead th {\n        text-align: right;\n    }\n</style>\n<table border=\"1\" class=\"dataframe\">\n  <thead>\n    <tr style=\"text-align: right;\">\n      <th></th>\n      <th>Date</th>\n      <th>State</th>\n      <th>Country</th>\n      <th>Confirmed</th>\n      <th>Deaths</th>\n      <th>Recovered</th>\n    </tr>\n  </thead>\n  <tbody>\n    <tr>\n      <th>0</th>\n      <td>01/22/2020</td>\n      <td>Anhui</td>\n      <td>Mainland China</td>\n      <td>1.0</td>\n      <td>0.0</td>\n      <td>0.0</td>\n    </tr>\n    <tr>\n      <th>1</th>\n      <td>01/22/2020</td>\n      <td>Beijing</td>\n      <td>Mainland China</td>\n      <td>14.0</td>\n      <td>0.0</td>\n      <td>0.0</td>\n    </tr>\n    <tr>\n      <th>2</th>\n      <td>01/22/2020</td>\n      <td>Chongqing</td>\n      <td>Mainland China</td>\n      <td>6.0</td>\n      <td>0.0</td>\n      <td>0.0</td>\n    </tr>\n    <tr>\n      <th>3</th>\n      <td>01/22/2020</td>\n      <td>Fujian</td>\n      <td>Mainland China</td>\n      <td>1.0</td>\n      <td>0.0</td>\n      <td>0.0</td>\n    </tr>\n    <tr>\n      <th>4</th>\n      <td>01/22/2020</td>\n      <td>Gansu</td>\n      <td>Mainland China</td>\n      <td>0.0</td>\n      <td>0.0</td>\n      <td>0.0</td>\n    </tr>\n  </tbody>\n</table>\n</div>"
     },
     "metadata": {},
     "execution_count": 8
    }
   ],
   "source": [
    "df = df.drop(['SNo','Last Update'],axis=1)\n",
    "df = df.rename(columns={'ObservationDate':'Date','Province/State':'State','Country/Region':'Country'})\n",
    "df.head()\n"
   ]
  },
  {
   "cell_type": "code",
   "execution_count": 9,
   "metadata": {},
   "outputs": [
    {
     "output_type": "execute_result",
     "data": {
      "text/plain": [
       "              Date              State         Country  Confirmed  Deaths  \\\n",
       "116800  09/23/2020  Zaporizhia Oblast         Ukraine     3149.0    49.0   \n",
       "116801  09/23/2020            Zeeland     Netherlands     1270.0    72.0   \n",
       "116802  09/23/2020           Zhejiang  Mainland China     1282.0     1.0   \n",
       "116803  09/23/2020    Zhytomyr Oblast         Ukraine     5191.0    92.0   \n",
       "116804  09/23/2020       Zuid-Holland     Netherlands    29513.0  1372.0   \n",
       "\n",
       "        Recovered  \n",
       "116800     1158.0  \n",
       "116801        0.0  \n",
       "116802     1272.0  \n",
       "116803     2853.0  \n",
       "116804        0.0  "
      ],
      "text/html": "<div>\n<style scoped>\n    .dataframe tbody tr th:only-of-type {\n        vertical-align: middle;\n    }\n\n    .dataframe tbody tr th {\n        vertical-align: top;\n    }\n\n    .dataframe thead th {\n        text-align: right;\n    }\n</style>\n<table border=\"1\" class=\"dataframe\">\n  <thead>\n    <tr style=\"text-align: right;\">\n      <th></th>\n      <th>Date</th>\n      <th>State</th>\n      <th>Country</th>\n      <th>Confirmed</th>\n      <th>Deaths</th>\n      <th>Recovered</th>\n    </tr>\n  </thead>\n  <tbody>\n    <tr>\n      <th>116800</th>\n      <td>09/23/2020</td>\n      <td>Zaporizhia Oblast</td>\n      <td>Ukraine</td>\n      <td>3149.0</td>\n      <td>49.0</td>\n      <td>1158.0</td>\n    </tr>\n    <tr>\n      <th>116801</th>\n      <td>09/23/2020</td>\n      <td>Zeeland</td>\n      <td>Netherlands</td>\n      <td>1270.0</td>\n      <td>72.0</td>\n      <td>0.0</td>\n    </tr>\n    <tr>\n      <th>116802</th>\n      <td>09/23/2020</td>\n      <td>Zhejiang</td>\n      <td>Mainland China</td>\n      <td>1282.0</td>\n      <td>1.0</td>\n      <td>1272.0</td>\n    </tr>\n    <tr>\n      <th>116803</th>\n      <td>09/23/2020</td>\n      <td>Zhytomyr Oblast</td>\n      <td>Ukraine</td>\n      <td>5191.0</td>\n      <td>92.0</td>\n      <td>2853.0</td>\n    </tr>\n    <tr>\n      <th>116804</th>\n      <td>09/23/2020</td>\n      <td>Zuid-Holland</td>\n      <td>Netherlands</td>\n      <td>29513.0</td>\n      <td>1372.0</td>\n      <td>0.0</td>\n    </tr>\n  </tbody>\n</table>\n</div>"
     },
     "metadata": {},
     "execution_count": 9
    }
   ],
   "source": [
    "df.tail()\n"
   ]
  },
  {
   "cell_type": "code",
   "execution_count": 10,
   "metadata": {
    "tags": []
   },
   "outputs": [
    {
     "output_type": "execute_result",
     "data": {
      "text/plain": [
       "          Confirmed  Recovered    Deaths\n",
       "Country                                 \n",
       "US        6933548.0  2670256.0  201884.0\n",
       "India     5646010.0  4587613.0   90020.0\n",
       "Brazil    4591364.0  4046827.0  138105.0\n",
       "Russia    1117487.0   920602.0   19720.0\n",
       "Colombia   784268.0   662277.0   24746.0"
      ],
      "text/html": "<div>\n<style scoped>\n    .dataframe tbody tr th:only-of-type {\n        vertical-align: middle;\n    }\n\n    .dataframe tbody tr th {\n        vertical-align: top;\n    }\n\n    .dataframe thead th {\n        text-align: right;\n    }\n</style>\n<table border=\"1\" class=\"dataframe\">\n  <thead>\n    <tr style=\"text-align: right;\">\n      <th></th>\n      <th>Confirmed</th>\n      <th>Recovered</th>\n      <th>Deaths</th>\n    </tr>\n    <tr>\n      <th>Country</th>\n      <th></th>\n      <th></th>\n      <th></th>\n    </tr>\n  </thead>\n  <tbody>\n    <tr>\n      <th>US</th>\n      <td>6933548.0</td>\n      <td>2670256.0</td>\n      <td>201884.0</td>\n    </tr>\n    <tr>\n      <th>India</th>\n      <td>5646010.0</td>\n      <td>4587613.0</td>\n      <td>90020.0</td>\n    </tr>\n    <tr>\n      <th>Brazil</th>\n      <td>4591364.0</td>\n      <td>4046827.0</td>\n      <td>138105.0</td>\n    </tr>\n    <tr>\n      <th>Russia</th>\n      <td>1117487.0</td>\n      <td>920602.0</td>\n      <td>19720.0</td>\n    </tr>\n    <tr>\n      <th>Colombia</th>\n      <td>784268.0</td>\n      <td>662277.0</td>\n      <td>24746.0</td>\n    </tr>\n  </tbody>\n</table>\n</div>"
     },
     "metadata": {},
     "execution_count": 10
    }
   ],
   "source": [
    "confirmed=df.loc[df['Date'] == '09/23/2020']\n",
    "confirmed = confirmed.groupby(['Country']).sum()[['Confirmed','Recovered','Deaths']].sort_values(by=['Confirmed'], ascending=False)\n",
    "confirmed.head()\n"
   ]
  },
  {
   "source": [
    "df.Date = pd.to_datetime(df.Date.astype(str), dayfirst=False, errors='coerce')"
   ],
   "cell_type": "code",
   "metadata": {},
   "execution_count": 11,
   "outputs": []
  },
  {
   "cell_type": "code",
   "execution_count": 12,
   "metadata": {},
   "outputs": [
    {
     "output_type": "execute_result",
     "data": {
      "text/plain": [
       "116800   2020-09-23\n",
       "116801   2020-09-23\n",
       "116802   2020-09-23\n",
       "116803   2020-09-23\n",
       "116804   2020-09-23\n",
       "Name: Date, dtype: datetime64[ns]"
      ]
     },
     "metadata": {},
     "execution_count": 12
    }
   ],
   "source": [
    "df.Date.tail()"
   ]
  },
  {
   "cell_type": "code",
   "execution_count": 13,
   "metadata": {
    "tags": []
   },
   "outputs": [
    {
     "output_type": "stream",
     "name": "stdout",
     "text": [
      "<class 'pandas.core.frame.DataFrame'>\nRangeIndex: 116805 entries, 0 to 116804\nData columns (total 6 columns):\n #   Column     Non-Null Count   Dtype         \n---  ------     --------------   -----         \n 0   Date       116805 non-null  datetime64[ns]\n 1   State      81452 non-null   object        \n 2   Country    116805 non-null  object        \n 3   Confirmed  116805 non-null  float64       \n 4   Deaths     116805 non-null  float64       \n 5   Recovered  116805 non-null  float64       \ndtypes: datetime64[ns](1), float64(3), object(2)\nmemory usage: 5.3+ MB\n"
     ]
    }
   ],
   "source": [
    "df.info()"
   ]
  },
  {
   "cell_type": "code",
   "execution_count": 14,
   "metadata": {
    "tags": []
   },
   "outputs": [
    {
     "output_type": "execute_result",
     "data": {
      "text/plain": [
       "        Date  Confirmed\n",
       "0 2020-01-22      555.0\n",
       "1 2020-01-23      653.0\n",
       "2 2020-01-24      941.0\n",
       "3 2020-01-25     1438.0\n",
       "4 2020-01-26     2118.0"
      ],
      "text/html": "<div>\n<style scoped>\n    .dataframe tbody tr th:only-of-type {\n        vertical-align: middle;\n    }\n\n    .dataframe tbody tr th {\n        vertical-align: top;\n    }\n\n    .dataframe thead th {\n        text-align: right;\n    }\n</style>\n<table border=\"1\" class=\"dataframe\">\n  <thead>\n    <tr style=\"text-align: right;\">\n      <th></th>\n      <th>Date</th>\n      <th>Confirmed</th>\n    </tr>\n  </thead>\n  <tbody>\n    <tr>\n      <th>0</th>\n      <td>2020-01-22</td>\n      <td>555.0</td>\n    </tr>\n    <tr>\n      <th>1</th>\n      <td>2020-01-23</td>\n      <td>653.0</td>\n    </tr>\n    <tr>\n      <th>2</th>\n      <td>2020-01-24</td>\n      <td>941.0</td>\n    </tr>\n    <tr>\n      <th>3</th>\n      <td>2020-01-25</td>\n      <td>1438.0</td>\n    </tr>\n    <tr>\n      <th>4</th>\n      <td>2020-01-26</td>\n      <td>2118.0</td>\n    </tr>\n  </tbody>\n</table>\n</div>"
     },
     "metadata": {},
     "execution_count": 14
    }
   ],
   "source": [
    "cumulative_confirmed = df.groupby('Date').Confirmed.sum()\n",
    "cumulative_confirmed = cumulative_confirmed.groupby(cumulative_confirmed.index.to_period('y')).cumsum().reset_index()\n",
    "for i in range(245,0,-1):\n",
    "    cumulative_confirmed['Confirmed'].iloc[i] = cumulative_confirmed['Confirmed'].iloc[i]-cumulative_confirmed['Confirmed'].iloc[i-1]\n",
    "cumulative_confirmed.head()\n"
   ]
  },
  {
   "source": [
    "confirmed_graph = go.Scatter(x=cumulative_confirmed.Date,y=cumulative_confirmed.Confirmed, marker=dict(color='red'))\n",
    "layout = go.Layout(title='Confirmed Cases', xaxis=dict(title='Date'), yaxis=dict(title='(Number)'))\n",
    "fig = go.Figure(data=[confirmed_graph], layout=layout)\n",
    "py.iplot(fig,sharing='public')"
   ],
   "cell_type": "code",
   "metadata": {},
   "execution_count": 15,
   "outputs": [
    {
     "output_type": "execute_result",
     "data": {
      "text/plain": [
       "<IPython.lib.display.IFrame at 0x1a73c7ad2b0>"
      ],
      "text/html": "\n        <iframe\n            width=\"100%\"\n            height=\"525px\"\n            src=\"https://plotly.com/~dhanik/93.embed\"\n            frameborder=\"0\"\n            allowfullscreen\n        ></iframe>\n        "
     },
     "metadata": {},
     "execution_count": 15
    }
   ]
  },
  {
   "cell_type": "code",
   "execution_count": 16,
   "metadata": {},
   "outputs": [
    {
     "output_type": "execute_result",
     "data": {
      "text/plain": [
       "        Date  Recovered\n",
       "0 2020-01-22       28.0\n",
       "1 2020-01-23       30.0\n",
       "2 2020-01-24       36.0\n",
       "3 2020-01-25       39.0\n",
       "4 2020-01-26       52.0\n",
       "5 2020-01-27       61.0\n",
       "6 2020-01-28      107.0\n",
       "7 2020-01-29      126.0\n",
       "8 2020-01-30      143.0\n",
       "9 2020-01-31      222.0"
      ],
      "text/html": "<div>\n<style scoped>\n    .dataframe tbody tr th:only-of-type {\n        vertical-align: middle;\n    }\n\n    .dataframe tbody tr th {\n        vertical-align: top;\n    }\n\n    .dataframe thead th {\n        text-align: right;\n    }\n</style>\n<table border=\"1\" class=\"dataframe\">\n  <thead>\n    <tr style=\"text-align: right;\">\n      <th></th>\n      <th>Date</th>\n      <th>Recovered</th>\n    </tr>\n  </thead>\n  <tbody>\n    <tr>\n      <th>0</th>\n      <td>2020-01-22</td>\n      <td>28.0</td>\n    </tr>\n    <tr>\n      <th>1</th>\n      <td>2020-01-23</td>\n      <td>30.0</td>\n    </tr>\n    <tr>\n      <th>2</th>\n      <td>2020-01-24</td>\n      <td>36.0</td>\n    </tr>\n    <tr>\n      <th>3</th>\n      <td>2020-01-25</td>\n      <td>39.0</td>\n    </tr>\n    <tr>\n      <th>4</th>\n      <td>2020-01-26</td>\n      <td>52.0</td>\n    </tr>\n    <tr>\n      <th>5</th>\n      <td>2020-01-27</td>\n      <td>61.0</td>\n    </tr>\n    <tr>\n      <th>6</th>\n      <td>2020-01-28</td>\n      <td>107.0</td>\n    </tr>\n    <tr>\n      <th>7</th>\n      <td>2020-01-29</td>\n      <td>126.0</td>\n    </tr>\n    <tr>\n      <th>8</th>\n      <td>2020-01-30</td>\n      <td>143.0</td>\n    </tr>\n    <tr>\n      <th>9</th>\n      <td>2020-01-31</td>\n      <td>222.0</td>\n    </tr>\n  </tbody>\n</table>\n</div>"
     },
     "metadata": {},
     "execution_count": 16
    }
   ],
   "source": [
    "cumulative_recovered = df.groupby('Date').Recovered.sum()\n",
    "cumulative_recovered = cumulative_recovered.groupby(cumulative_recovered.index.to_period('y')).cumsum().reset_index()\n",
    "for i in range(245,0,-1):\n",
    "    cumulative_recovered['Recovered'].iloc[i] = cumulative_recovered['Recovered'].iloc[i]-cumulative_recovered['Recovered'].iloc[i-1]\n",
    "cumulative_recovered.head(10)\n"
   ]
  },
  {
   "cell_type": "code",
   "execution_count": 17,
   "metadata": {},
   "outputs": [
    {
     "output_type": "execute_result",
     "data": {
      "text/plain": [
       "<IPython.lib.display.IFrame at 0x1a73c85afd0>"
      ],
      "text/html": "\n        <iframe\n            width=\"100%\"\n            height=\"525px\"\n            src=\"https://plotly.com/~dhanik/95.embed\"\n            frameborder=\"0\"\n            allowfullscreen\n        ></iframe>\n        "
     },
     "metadata": {},
     "execution_count": 17
    }
   ],
   "source": [
    "recovered_graph = go.Scatter(x=cumulative_recovered.Date,y=cumulative_recovered.Recovered, marker=dict(color='green'))\n",
    "layout = go.Layout(title='Recovered Cases', xaxis=dict(title='Date'), yaxis=dict(title='(Number)'))\n",
    "fig = go.Figure(data=[recovered_graph], layout=layout)\n",
    "py.iplot(fig,sharing='public')"
   ]
  },
  {
   "cell_type": "code",
   "execution_count": 18,
   "metadata": {},
   "outputs": [
    {
     "output_type": "execute_result",
     "data": {
      "text/plain": [
       "        Date  Deaths\n",
       "0 2020-01-22    17.0\n",
       "1 2020-01-23    18.0\n",
       "2 2020-01-24    26.0\n",
       "3 2020-01-25    42.0\n",
       "4 2020-01-26    56.0\n",
       "5 2020-01-27    82.0\n",
       "6 2020-01-28   131.0\n",
       "7 2020-01-29   133.0\n",
       "8 2020-01-30   171.0\n",
       "9 2020-01-31   213.0"
      ],
      "text/html": "<div>\n<style scoped>\n    .dataframe tbody tr th:only-of-type {\n        vertical-align: middle;\n    }\n\n    .dataframe tbody tr th {\n        vertical-align: top;\n    }\n\n    .dataframe thead th {\n        text-align: right;\n    }\n</style>\n<table border=\"1\" class=\"dataframe\">\n  <thead>\n    <tr style=\"text-align: right;\">\n      <th></th>\n      <th>Date</th>\n      <th>Deaths</th>\n    </tr>\n  </thead>\n  <tbody>\n    <tr>\n      <th>0</th>\n      <td>2020-01-22</td>\n      <td>17.0</td>\n    </tr>\n    <tr>\n      <th>1</th>\n      <td>2020-01-23</td>\n      <td>18.0</td>\n    </tr>\n    <tr>\n      <th>2</th>\n      <td>2020-01-24</td>\n      <td>26.0</td>\n    </tr>\n    <tr>\n      <th>3</th>\n      <td>2020-01-25</td>\n      <td>42.0</td>\n    </tr>\n    <tr>\n      <th>4</th>\n      <td>2020-01-26</td>\n      <td>56.0</td>\n    </tr>\n    <tr>\n      <th>5</th>\n      <td>2020-01-27</td>\n      <td>82.0</td>\n    </tr>\n    <tr>\n      <th>6</th>\n      <td>2020-01-28</td>\n      <td>131.0</td>\n    </tr>\n    <tr>\n      <th>7</th>\n      <td>2020-01-29</td>\n      <td>133.0</td>\n    </tr>\n    <tr>\n      <th>8</th>\n      <td>2020-01-30</td>\n      <td>171.0</td>\n    </tr>\n    <tr>\n      <th>9</th>\n      <td>2020-01-31</td>\n      <td>213.0</td>\n    </tr>\n  </tbody>\n</table>\n</div>"
     },
     "metadata": {},
     "execution_count": 18
    }
   ],
   "source": [
    "cumulative_deaths = df.groupby('Date').Deaths.sum()\n",
    "cumulative_deaths = cumulative_deaths.groupby(cumulative_deaths.index.to_period('y')).cumsum().reset_index()\n",
    "for i in range(245,0,-1):\n",
    "    cumulative_deaths['Deaths'].iloc[i] = cumulative_deaths['Deaths'].iloc[i]-cumulative_deaths['Deaths'].iloc[i-1]\n",
    "cumulative_deaths.head(10)"
   ]
  },
  {
   "cell_type": "code",
   "execution_count": 19,
   "metadata": {},
   "outputs": [
    {
     "output_type": "execute_result",
     "data": {
      "text/plain": [
       "<IPython.lib.display.IFrame at 0x1a73c872c10>"
      ],
      "text/html": "\n        <iframe\n            width=\"100%\"\n            height=\"525px\"\n            src=\"https://plotly.com/~dhanik/97.embed\"\n            frameborder=\"0\"\n            allowfullscreen\n        ></iframe>\n        "
     },
     "metadata": {},
     "execution_count": 19
    }
   ],
   "source": [
    "death_graph = go.Scatter(x=cumulative_deaths.Date,y=cumulative_deaths.Deaths, marker=dict(color='black'))\n",
    "layout = go.Layout(title='Deaths Cases', xaxis=dict(title='Date'), yaxis=dict(title='(Number)'))\n",
    "fig = go.Figure(data=[death_graph], layout=layout)\n",
    "py.iplot(fig,sharing='public')"
   ]
  },
  {
   "cell_type": "code",
   "execution_count": 20,
   "metadata": {},
   "outputs": [
    {
     "output_type": "execute_result",
     "data": {
      "text/plain": [
       "        Date  Recovered  Confirmed  Deaths\n",
       "0 2020-01-22       28.0      555.0    17.0\n",
       "1 2020-01-23       30.0      653.0    18.0\n",
       "2 2020-01-24       36.0      941.0    26.0\n",
       "3 2020-01-25       39.0     1438.0    42.0\n",
       "4 2020-01-26       52.0     2118.0    56.0\n",
       "5 2020-01-27       61.0     2927.0    82.0\n",
       "6 2020-01-28      107.0     5578.0   131.0\n",
       "7 2020-01-29      126.0     6165.0   133.0\n",
       "8 2020-01-30      143.0     8235.0   171.0\n",
       "9 2020-01-31      222.0     9925.0   213.0"
      ],
      "text/html": "<div>\n<style scoped>\n    .dataframe tbody tr th:only-of-type {\n        vertical-align: middle;\n    }\n\n    .dataframe tbody tr th {\n        vertical-align: top;\n    }\n\n    .dataframe thead th {\n        text-align: right;\n    }\n</style>\n<table border=\"1\" class=\"dataframe\">\n  <thead>\n    <tr style=\"text-align: right;\">\n      <th></th>\n      <th>Date</th>\n      <th>Recovered</th>\n      <th>Confirmed</th>\n      <th>Deaths</th>\n    </tr>\n  </thead>\n  <tbody>\n    <tr>\n      <th>0</th>\n      <td>2020-01-22</td>\n      <td>28.0</td>\n      <td>555.0</td>\n      <td>17.0</td>\n    </tr>\n    <tr>\n      <th>1</th>\n      <td>2020-01-23</td>\n      <td>30.0</td>\n      <td>653.0</td>\n      <td>18.0</td>\n    </tr>\n    <tr>\n      <th>2</th>\n      <td>2020-01-24</td>\n      <td>36.0</td>\n      <td>941.0</td>\n      <td>26.0</td>\n    </tr>\n    <tr>\n      <th>3</th>\n      <td>2020-01-25</td>\n      <td>39.0</td>\n      <td>1438.0</td>\n      <td>42.0</td>\n    </tr>\n    <tr>\n      <th>4</th>\n      <td>2020-01-26</td>\n      <td>52.0</td>\n      <td>2118.0</td>\n      <td>56.0</td>\n    </tr>\n    <tr>\n      <th>5</th>\n      <td>2020-01-27</td>\n      <td>61.0</td>\n      <td>2927.0</td>\n      <td>82.0</td>\n    </tr>\n    <tr>\n      <th>6</th>\n      <td>2020-01-28</td>\n      <td>107.0</td>\n      <td>5578.0</td>\n      <td>131.0</td>\n    </tr>\n    <tr>\n      <th>7</th>\n      <td>2020-01-29</td>\n      <td>126.0</td>\n      <td>6165.0</td>\n      <td>133.0</td>\n    </tr>\n    <tr>\n      <th>8</th>\n      <td>2020-01-30</td>\n      <td>143.0</td>\n      <td>8235.0</td>\n      <td>171.0</td>\n    </tr>\n    <tr>\n      <th>9</th>\n      <td>2020-01-31</td>\n      <td>222.0</td>\n      <td>9925.0</td>\n      <td>213.0</td>\n    </tr>\n  </tbody>\n</table>\n</div>"
     },
     "metadata": {},
     "execution_count": 20
    }
   ],
   "source": [
    "cumulative_final=pd.concat([cumulative_recovered,cumulative_confirmed.drop(['Date'],axis =1),cumulative_deaths.drop(['Date'],axis =1)],axis=1,sort=False)\n",
    "cumulative_final.head(10)"
   ]
  },
  {
   "cell_type": "code",
   "execution_count": 21,
   "metadata": {
    "tags": []
   },
   "outputs": [
    {
     "output_type": "execute_result",
     "data": {
      "text/plain": [
       "<IPython.lib.display.IFrame at 0x1a73c959af0>"
      ],
      "text/html": "\n        <iframe\n            width=\"100%\"\n            height=\"525px\"\n            src=\"https://plotly.com/~dhanik/99.embed\"\n            frameborder=\"0\"\n            allowfullscreen\n        ></iframe>\n        "
     },
     "metadata": {},
     "execution_count": 21
    }
   ],
   "source": [
    "\n",
    "trace_Confirmed = go.Bar(x=cumulative_final.Date,\n",
    "                  y=cumulative_final.Confirmed,\n",
    "                  name='Confirmed Cases',\n",
    "                  marker=dict(color='red'))\n",
    "\n",
    "trace_Recovered = go.Scatter(x=cumulative_final.Date,\n",
    "                y=cumulative_final.Recovered,\n",
    "                name='Recovered Cases',\n",
    "                marker=dict(color='green'))\n",
    "\n",
    "trace_Deaths = go.Scatter(x=cumulative_final.Date,\n",
    "                y=cumulative_final.Deaths,\n",
    "                name='Deaths',\n",
    "                marker=dict(color='black'))\n",
    "\n",
    "data = [trace_Confirmed, trace_Recovered, trace_Deaths]\n",
    "\n",
    "layout = go.Layout(title=\"COVID-19 Cumulative cases\",\n",
    "                xaxis=dict(title='Date'),\n",
    "                yaxis=dict(title='Cases'))\n",
    "\n",
    "fig = go.Figure(data=data, layout=layout)\n",
    "\n",
    "py.iplot(fig,sharing='public')"
   ]
  },
  {
   "cell_type": "code",
   "execution_count": 22,
   "metadata": {},
   "outputs": [
    {
     "output_type": "execute_result",
     "data": {
      "text/plain": [
       "        Date  Recovered  Confirmed  Deaths\n",
       "0 2020-01-22       28.0      555.0    17.0\n",
       "1 2020-01-23        2.0       98.0     1.0\n",
       "2 2020-01-24        6.0      288.0     8.0\n",
       "3 2020-01-25        3.0      497.0    16.0\n",
       "4 2020-01-26       13.0      680.0    14.0\n",
       "5 2020-01-27        9.0      809.0    26.0\n",
       "6 2020-01-28       46.0     2651.0    49.0\n",
       "7 2020-01-29       19.0      587.0     2.0\n",
       "8 2020-01-30       17.0     2070.0    38.0\n",
       "9 2020-01-31       79.0     1690.0    42.0"
      ],
      "text/html": "<div>\n<style scoped>\n    .dataframe tbody tr th:only-of-type {\n        vertical-align: middle;\n    }\n\n    .dataframe tbody tr th {\n        vertical-align: top;\n    }\n\n    .dataframe thead th {\n        text-align: right;\n    }\n</style>\n<table border=\"1\" class=\"dataframe\">\n  <thead>\n    <tr style=\"text-align: right;\">\n      <th></th>\n      <th>Date</th>\n      <th>Recovered</th>\n      <th>Confirmed</th>\n      <th>Deaths</th>\n    </tr>\n  </thead>\n  <tbody>\n    <tr>\n      <th>0</th>\n      <td>2020-01-22</td>\n      <td>28.0</td>\n      <td>555.0</td>\n      <td>17.0</td>\n    </tr>\n    <tr>\n      <th>1</th>\n      <td>2020-01-23</td>\n      <td>2.0</td>\n      <td>98.0</td>\n      <td>1.0</td>\n    </tr>\n    <tr>\n      <th>2</th>\n      <td>2020-01-24</td>\n      <td>6.0</td>\n      <td>288.0</td>\n      <td>8.0</td>\n    </tr>\n    <tr>\n      <th>3</th>\n      <td>2020-01-25</td>\n      <td>3.0</td>\n      <td>497.0</td>\n      <td>16.0</td>\n    </tr>\n    <tr>\n      <th>4</th>\n      <td>2020-01-26</td>\n      <td>13.0</td>\n      <td>680.0</td>\n      <td>14.0</td>\n    </tr>\n    <tr>\n      <th>5</th>\n      <td>2020-01-27</td>\n      <td>9.0</td>\n      <td>809.0</td>\n      <td>26.0</td>\n    </tr>\n    <tr>\n      <th>6</th>\n      <td>2020-01-28</td>\n      <td>46.0</td>\n      <td>2651.0</td>\n      <td>49.0</td>\n    </tr>\n    <tr>\n      <th>7</th>\n      <td>2020-01-29</td>\n      <td>19.0</td>\n      <td>587.0</td>\n      <td>2.0</td>\n    </tr>\n    <tr>\n      <th>8</th>\n      <td>2020-01-30</td>\n      <td>17.0</td>\n      <td>2070.0</td>\n      <td>38.0</td>\n    </tr>\n    <tr>\n      <th>9</th>\n      <td>2020-01-31</td>\n      <td>79.0</td>\n      <td>1690.0</td>\n      <td>42.0</td>\n    </tr>\n  </tbody>\n</table>\n</div>"
     },
     "metadata": {},
     "execution_count": 22
    }
   ],
   "source": [
    "per_day_cases=cumulative_final.copy()\n",
    "for i in range(245,0,-1):\n",
    "    per_day_cases['Deaths'].iloc[i] = per_day_cases['Deaths'].iloc[i]-per_day_cases['Deaths'].iloc[i-1]\n",
    "    per_day_cases['Confirmed'].iloc[i] = per_day_cases['Confirmed'].iloc[i]-per_day_cases['Confirmed'].iloc[i-1]\n",
    "    per_day_cases['Recovered'].iloc[i] = per_day_cases['Recovered'].iloc[i]-per_day_cases['Recovered'].iloc[i-1]\n",
    "per_day_cases.head(10)"
   ]
  },
  {
   "cell_type": "code",
   "execution_count": 23,
   "metadata": {},
   "outputs": [
    {
     "output_type": "execute_result",
     "data": {
      "text/plain": [
       "<IPython.lib.display.IFrame at 0x1a73c932970>"
      ],
      "text/html": "\n        <iframe\n            width=\"100%\"\n            height=\"525px\"\n            src=\"https://plotly.com/~dhanik/101.embed\"\n            frameborder=\"0\"\n            allowfullscreen\n        ></iframe>\n        "
     },
     "metadata": {},
     "execution_count": 23
    }
   ],
   "source": [
    "trace_Confirmed = go.Bar(x=per_day_cases.Date,\n",
    "                  y=per_day_cases.Confirmed,\n",
    "                  name='Confirmed Cases',\n",
    "                  marker=dict(color='red'))\n",
    "\n",
    "trace_Recovered = go.Bar(x=per_day_cases.Date,\n",
    "                y=per_day_cases.Recovered,\n",
    "                name='Recovered Cases',\n",
    "                marker=dict(color='green'))\n",
    "\n",
    "trace_Deaths = go.Bar(x=per_day_cases.Date,\n",
    "                y=per_day_cases.Deaths,\n",
    "                name='Deaths',\n",
    "                marker=dict(color='black'))\n",
    "\n",
    "data = [trace_Confirmed, trace_Recovered, trace_Deaths]\n",
    "\n",
    "layout = go.Layout(title=\"COVID-19 per day cases\",\n",
    "                xaxis=dict(title='Date'),\n",
    "                yaxis=dict(title='Cases'))\n",
    "\n",
    "fig = go.Figure(data=data, layout=layout)\n",
    "\n",
    "py.iplot(fig,sharing='public')"
   ]
  },
  {
   "cell_type": "code",
   "execution_count": 24,
   "metadata": {},
   "outputs": [
    {
     "output_type": "execute_result",
     "data": {
      "text/plain": [
       "              Confirmed  Recovered    Deaths  Mortality_rate  Recovery_rate\n",
       "Country                                                                    \n",
       "US            6933548.0  2670256.0  201884.0        2.911698      38.512115\n",
       "India         5646010.0  4587613.0   90020.0        1.594400      81.254071\n",
       "Brazil        4591364.0  4046827.0  138105.0        3.007930      88.139973\n",
       "Russia        1117487.0   920602.0   19720.0        1.764674      82.381451\n",
       "Colombia       784268.0   662277.0   24746.0        3.155299      84.445241\n",
       "Peru           776546.0   636489.0   31568.0        4.065181      81.964108\n",
       "Mexico         710049.0   601611.0   74949.0       10.555469      84.728096\n",
       "Spain          693556.0   150376.0   31034.0        4.474621      21.681883\n",
       "South Africa   665188.0   594229.0   16206.0        2.436304      89.332489\n",
       "Argentina      664799.0   525486.0   14376.0        2.162458      79.044343"
      ],
      "text/html": "<div>\n<style scoped>\n    .dataframe tbody tr th:only-of-type {\n        vertical-align: middle;\n    }\n\n    .dataframe tbody tr th {\n        vertical-align: top;\n    }\n\n    .dataframe thead th {\n        text-align: right;\n    }\n</style>\n<table border=\"1\" class=\"dataframe\">\n  <thead>\n    <tr style=\"text-align: right;\">\n      <th></th>\n      <th>Confirmed</th>\n      <th>Recovered</th>\n      <th>Deaths</th>\n      <th>Mortality_rate</th>\n      <th>Recovery_rate</th>\n    </tr>\n    <tr>\n      <th>Country</th>\n      <th></th>\n      <th></th>\n      <th></th>\n      <th></th>\n      <th></th>\n    </tr>\n  </thead>\n  <tbody>\n    <tr>\n      <th>US</th>\n      <td>6933548.0</td>\n      <td>2670256.0</td>\n      <td>201884.0</td>\n      <td>2.911698</td>\n      <td>38.512115</td>\n    </tr>\n    <tr>\n      <th>India</th>\n      <td>5646010.0</td>\n      <td>4587613.0</td>\n      <td>90020.0</td>\n      <td>1.594400</td>\n      <td>81.254071</td>\n    </tr>\n    <tr>\n      <th>Brazil</th>\n      <td>4591364.0</td>\n      <td>4046827.0</td>\n      <td>138105.0</td>\n      <td>3.007930</td>\n      <td>88.139973</td>\n    </tr>\n    <tr>\n      <th>Russia</th>\n      <td>1117487.0</td>\n      <td>920602.0</td>\n      <td>19720.0</td>\n      <td>1.764674</td>\n      <td>82.381451</td>\n    </tr>\n    <tr>\n      <th>Colombia</th>\n      <td>784268.0</td>\n      <td>662277.0</td>\n      <td>24746.0</td>\n      <td>3.155299</td>\n      <td>84.445241</td>\n    </tr>\n    <tr>\n      <th>Peru</th>\n      <td>776546.0</td>\n      <td>636489.0</td>\n      <td>31568.0</td>\n      <td>4.065181</td>\n      <td>81.964108</td>\n    </tr>\n    <tr>\n      <th>Mexico</th>\n      <td>710049.0</td>\n      <td>601611.0</td>\n      <td>74949.0</td>\n      <td>10.555469</td>\n      <td>84.728096</td>\n    </tr>\n    <tr>\n      <th>Spain</th>\n      <td>693556.0</td>\n      <td>150376.0</td>\n      <td>31034.0</td>\n      <td>4.474621</td>\n      <td>21.681883</td>\n    </tr>\n    <tr>\n      <th>South Africa</th>\n      <td>665188.0</td>\n      <td>594229.0</td>\n      <td>16206.0</td>\n      <td>2.436304</td>\n      <td>89.332489</td>\n    </tr>\n    <tr>\n      <th>Argentina</th>\n      <td>664799.0</td>\n      <td>525486.0</td>\n      <td>14376.0</td>\n      <td>2.162458</td>\n      <td>79.044343</td>\n    </tr>\n  </tbody>\n</table>\n</div>"
     },
     "metadata": {},
     "execution_count": 24
    }
   ],
   "source": [
    "confirmed['Mortality_rate'] =( confirmed['Deaths']/confirmed['Confirmed']*100) \n",
    "confirmed['Recovery_rate'] =( confirmed['Recovered']/confirmed['Confirmed']*100) \n",
    "confirmed.head(10)"
   ]
  },
  {
   "cell_type": "code",
   "execution_count": 25,
   "metadata": {},
   "outputs": [
    {
     "output_type": "execute_result",
     "data": {
      "text/plain": [
       "<IPython.lib.display.IFrame at 0x1a73c92d070>"
      ],
      "text/html": "\n        <iframe\n            width=\"100%\"\n            height=\"525px\"\n            src=\"https://plotly.com/~dhanik/103.embed\"\n            frameborder=\"0\"\n            allowfullscreen\n        ></iframe>\n        "
     },
     "metadata": {},
     "execution_count": 25
    }
   ],
   "source": [
    "countries=confirmed.iloc[0:21]\n",
    "countries=countries.reset_index()\n",
    "\n",
    "trace_recovery_rate = go.Bar(x=countries.Country,\n",
    "                  y=countries.Recovery_rate,\n",
    "                  name='Recovery Rate',\n",
    "                  marker=dict(color='indianred'))\n",
    "\n",
    "trace_mortality_rate = go.Bar(x=countries.Country,\n",
    "                  y=countries.Mortality_rate,\n",
    "                  name='Mortality Rate',\n",
    "                  marker=dict(color='brown')) \n",
    "\n",
    "\n",
    "data = [trace_recovery_rate, trace_mortality_rate]\n",
    "\n",
    "layout = go.Layout(title=\"COVID-19 Recovery and Mortality rates of most effected Countries\",\n",
    "                xaxis=dict(title='Countries'),\n",
    "                yaxis=dict(title='Rate'))\n",
    "\n",
    "fig = go.Figure(data=data, layout=layout)\n",
    "\n",
    "py.iplot(fig,sharing='public')"
   ]
  },
  {
   "cell_type": "code",
   "execution_count": 26,
   "metadata": {},
   "outputs": [
    {
     "output_type": "execute_result",
     "data": {
      "text/plain": [
       "            Confirmed  Recovered   Deaths  Mortality_rate  Recovery_rate\n",
       "Country                                                                 \n",
       "Yemen          2029.0     1245.0    586.0       28.881222      61.360276\n",
       "MS Zaandam        9.0        0.0      2.0       22.222222       0.000000\n",
       "Italy        302537.0   220665.0  35758.0       11.819381      72.938186\n",
       "Mexico       710049.0   601611.0  74949.0       10.555469      84.728096\n",
       "UK           412245.0     2247.0  41951.0       10.176230       0.545064"
      ],
      "text/html": "<div>\n<style scoped>\n    .dataframe tbody tr th:only-of-type {\n        vertical-align: middle;\n    }\n\n    .dataframe tbody tr th {\n        vertical-align: top;\n    }\n\n    .dataframe thead th {\n        text-align: right;\n    }\n</style>\n<table border=\"1\" class=\"dataframe\">\n  <thead>\n    <tr style=\"text-align: right;\">\n      <th></th>\n      <th>Confirmed</th>\n      <th>Recovered</th>\n      <th>Deaths</th>\n      <th>Mortality_rate</th>\n      <th>Recovery_rate</th>\n    </tr>\n    <tr>\n      <th>Country</th>\n      <th></th>\n      <th></th>\n      <th></th>\n      <th></th>\n      <th></th>\n    </tr>\n  </thead>\n  <tbody>\n    <tr>\n      <th>Yemen</th>\n      <td>2029.0</td>\n      <td>1245.0</td>\n      <td>586.0</td>\n      <td>28.881222</td>\n      <td>61.360276</td>\n    </tr>\n    <tr>\n      <th>MS Zaandam</th>\n      <td>9.0</td>\n      <td>0.0</td>\n      <td>2.0</td>\n      <td>22.222222</td>\n      <td>0.000000</td>\n    </tr>\n    <tr>\n      <th>Italy</th>\n      <td>302537.0</td>\n      <td>220665.0</td>\n      <td>35758.0</td>\n      <td>11.819381</td>\n      <td>72.938186</td>\n    </tr>\n    <tr>\n      <th>Mexico</th>\n      <td>710049.0</td>\n      <td>601611.0</td>\n      <td>74949.0</td>\n      <td>10.555469</td>\n      <td>84.728096</td>\n    </tr>\n    <tr>\n      <th>UK</th>\n      <td>412245.0</td>\n      <td>2247.0</td>\n      <td>41951.0</td>\n      <td>10.176230</td>\n      <td>0.545064</td>\n    </tr>\n  </tbody>\n</table>\n</div>"
     },
     "metadata": {},
     "execution_count": 26
    }
   ],
   "source": [
    "mortality=confirmed.sort_values(by=['Mortality_rate'], ascending=False)\n",
    "mortality.head()\n"
   ]
  },
  {
   "cell_type": "code",
   "execution_count": 27,
   "metadata": {},
   "outputs": [
    {
     "output_type": "execute_result",
     "data": {
      "text/plain": [
       "                                  Confirmed  Recovered  Deaths  \\\n",
       "Country                                                          \n",
       "Macau                                  46.0       46.0     0.0   \n",
       "Saint Vincent and the Grenadines       64.0       64.0     0.0   \n",
       "Seychelles                            143.0      136.0     0.0   \n",
       "Mongolia                              313.0      302.0     0.0   \n",
       "Cambodia                              275.0      274.0     0.0   \n",
       "\n",
       "                                  Mortality_rate  Recovery_rate  \n",
       "Country                                                          \n",
       "Macau                                        0.0     100.000000  \n",
       "Saint Vincent and the Grenadines             0.0     100.000000  \n",
       "Seychelles                                   0.0      95.104895  \n",
       "Mongolia                                     0.0      96.485623  \n",
       "Cambodia                                     0.0      99.636364  "
      ],
      "text/html": "<div>\n<style scoped>\n    .dataframe tbody tr th:only-of-type {\n        vertical-align: middle;\n    }\n\n    .dataframe tbody tr th {\n        vertical-align: top;\n    }\n\n    .dataframe thead th {\n        text-align: right;\n    }\n</style>\n<table border=\"1\" class=\"dataframe\">\n  <thead>\n    <tr style=\"text-align: right;\">\n      <th></th>\n      <th>Confirmed</th>\n      <th>Recovered</th>\n      <th>Deaths</th>\n      <th>Mortality_rate</th>\n      <th>Recovery_rate</th>\n    </tr>\n    <tr>\n      <th>Country</th>\n      <th></th>\n      <th></th>\n      <th></th>\n      <th></th>\n      <th></th>\n    </tr>\n  </thead>\n  <tbody>\n    <tr>\n      <th>Macau</th>\n      <td>46.0</td>\n      <td>46.0</td>\n      <td>0.0</td>\n      <td>0.0</td>\n      <td>100.000000</td>\n    </tr>\n    <tr>\n      <th>Saint Vincent and the Grenadines</th>\n      <td>64.0</td>\n      <td>64.0</td>\n      <td>0.0</td>\n      <td>0.0</td>\n      <td>100.000000</td>\n    </tr>\n    <tr>\n      <th>Seychelles</th>\n      <td>143.0</td>\n      <td>136.0</td>\n      <td>0.0</td>\n      <td>0.0</td>\n      <td>95.104895</td>\n    </tr>\n    <tr>\n      <th>Mongolia</th>\n      <td>313.0</td>\n      <td>302.0</td>\n      <td>0.0</td>\n      <td>0.0</td>\n      <td>96.485623</td>\n    </tr>\n    <tr>\n      <th>Cambodia</th>\n      <td>275.0</td>\n      <td>274.0</td>\n      <td>0.0</td>\n      <td>0.0</td>\n      <td>99.636364</td>\n    </tr>\n  </tbody>\n</table>\n</div>"
     },
     "metadata": {},
     "execution_count": 27
    }
   ],
   "source": [
    "mortality.tail()"
   ]
  },
  {
   "cell_type": "code",
   "execution_count": 28,
   "metadata": {},
   "outputs": [
    {
     "output_type": "execute_result",
     "data": {
      "text/plain": [
       "                                  Confirmed  Recovered  Deaths  \\\n",
       "Country                                                          \n",
       "Holy See                               12.0       12.0     0.0   \n",
       "Timor-Leste                            27.0       27.0     0.0   \n",
       "Macau                                  46.0       46.0     0.0   \n",
       "Saint Vincent and the Grenadines       64.0       64.0     0.0   \n",
       "Grenada                                24.0       24.0     0.0   \n",
       "\n",
       "                                  Mortality_rate  Recovery_rate  \n",
       "Country                                                          \n",
       "Holy See                                     0.0          100.0  \n",
       "Timor-Leste                                  0.0          100.0  \n",
       "Macau                                        0.0          100.0  \n",
       "Saint Vincent and the Grenadines             0.0          100.0  \n",
       "Grenada                                      0.0          100.0  "
      ],
      "text/html": "<div>\n<style scoped>\n    .dataframe tbody tr th:only-of-type {\n        vertical-align: middle;\n    }\n\n    .dataframe tbody tr th {\n        vertical-align: top;\n    }\n\n    .dataframe thead th {\n        text-align: right;\n    }\n</style>\n<table border=\"1\" class=\"dataframe\">\n  <thead>\n    <tr style=\"text-align: right;\">\n      <th></th>\n      <th>Confirmed</th>\n      <th>Recovered</th>\n      <th>Deaths</th>\n      <th>Mortality_rate</th>\n      <th>Recovery_rate</th>\n    </tr>\n    <tr>\n      <th>Country</th>\n      <th></th>\n      <th></th>\n      <th></th>\n      <th></th>\n      <th></th>\n    </tr>\n  </thead>\n  <tbody>\n    <tr>\n      <th>Holy See</th>\n      <td>12.0</td>\n      <td>12.0</td>\n      <td>0.0</td>\n      <td>0.0</td>\n      <td>100.0</td>\n    </tr>\n    <tr>\n      <th>Timor-Leste</th>\n      <td>27.0</td>\n      <td>27.0</td>\n      <td>0.0</td>\n      <td>0.0</td>\n      <td>100.0</td>\n    </tr>\n    <tr>\n      <th>Macau</th>\n      <td>46.0</td>\n      <td>46.0</td>\n      <td>0.0</td>\n      <td>0.0</td>\n      <td>100.0</td>\n    </tr>\n    <tr>\n      <th>Saint Vincent and the Grenadines</th>\n      <td>64.0</td>\n      <td>64.0</td>\n      <td>0.0</td>\n      <td>0.0</td>\n      <td>100.0</td>\n    </tr>\n    <tr>\n      <th>Grenada</th>\n      <td>24.0</td>\n      <td>24.0</td>\n      <td>0.0</td>\n      <td>0.0</td>\n      <td>100.0</td>\n    </tr>\n  </tbody>\n</table>\n</div>"
     },
     "metadata": {},
     "execution_count": 28
    }
   ],
   "source": [
    "recovery=confirmed.sort_values(by=['Recovery_rate'], ascending=False)\n",
    "recovery.head()"
   ]
  },
  {
   "cell_type": "code",
   "execution_count": 29,
   "metadata": {},
   "outputs": [
    {
     "output_type": "execute_result",
     "data": {
      "text/plain": [
       "             Confirmed  Recovered   Deaths  Mortality_rate  Recovery_rate\n",
       "Country                                                                  \n",
       "Netherlands   105304.0     3143.0   6344.0        6.024463       2.984692\n",
       "UK            412245.0     2247.0  41951.0       10.176230       0.545064\n",
       "Serbia         33080.0        0.0    744.0        2.249093       0.000000\n",
       "Sweden         89756.0        0.0   5876.0        6.546638       0.000000\n",
       "MS Zaandam         9.0        0.0      2.0       22.222222       0.000000"
      ],
      "text/html": "<div>\n<style scoped>\n    .dataframe tbody tr th:only-of-type {\n        vertical-align: middle;\n    }\n\n    .dataframe tbody tr th {\n        vertical-align: top;\n    }\n\n    .dataframe thead th {\n        text-align: right;\n    }\n</style>\n<table border=\"1\" class=\"dataframe\">\n  <thead>\n    <tr style=\"text-align: right;\">\n      <th></th>\n      <th>Confirmed</th>\n      <th>Recovered</th>\n      <th>Deaths</th>\n      <th>Mortality_rate</th>\n      <th>Recovery_rate</th>\n    </tr>\n    <tr>\n      <th>Country</th>\n      <th></th>\n      <th></th>\n      <th></th>\n      <th></th>\n      <th></th>\n    </tr>\n  </thead>\n  <tbody>\n    <tr>\n      <th>Netherlands</th>\n      <td>105304.0</td>\n      <td>3143.0</td>\n      <td>6344.0</td>\n      <td>6.024463</td>\n      <td>2.984692</td>\n    </tr>\n    <tr>\n      <th>UK</th>\n      <td>412245.0</td>\n      <td>2247.0</td>\n      <td>41951.0</td>\n      <td>10.176230</td>\n      <td>0.545064</td>\n    </tr>\n    <tr>\n      <th>Serbia</th>\n      <td>33080.0</td>\n      <td>0.0</td>\n      <td>744.0</td>\n      <td>2.249093</td>\n      <td>0.000000</td>\n    </tr>\n    <tr>\n      <th>Sweden</th>\n      <td>89756.0</td>\n      <td>0.0</td>\n      <td>5876.0</td>\n      <td>6.546638</td>\n      <td>0.000000</td>\n    </tr>\n    <tr>\n      <th>MS Zaandam</th>\n      <td>9.0</td>\n      <td>0.0</td>\n      <td>2.0</td>\n      <td>22.222222</td>\n      <td>0.000000</td>\n    </tr>\n  </tbody>\n</table>\n</div>"
     },
     "metadata": {},
     "execution_count": 29
    }
   ],
   "source": [
    "recovery.tail()"
   ]
  }
 ]
}