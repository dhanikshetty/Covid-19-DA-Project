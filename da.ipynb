{
 "metadata": {
  "language_info": {
   "codemirror_mode": {
    "name": "ipython",
    "version": 3
   },
   "file_extension": ".py",
   "mimetype": "text/x-python",
   "name": "python",
   "nbconvert_exporter": "python",
   "pygments_lexer": "ipython3",
   "version": "3.8.3-final"
  },
  "orig_nbformat": 2,
  "kernelspec": {
   "name": "python3",
   "display_name": "Python 3"
  }
 },
 "nbformat": 4,
 "nbformat_minor": 2,
 "cells": [
  {
   "cell_type": "code",
   "execution_count": 1,
   "metadata": {},
   "outputs": [],
   "source": [
    "# Import packages\n",
    "import numpy as np\n",
    "import pandas as pd\n",
    "import matplotlib.pyplot as plt\n",
    "import seaborn as sns\n",
    "import plotly.graph_objects as go\n",
    "# Set style & figures inline\n",
    "sns.set()\n",
    "%matplotlib inline"
   ]
  },
  {
   "cell_type": "code",
   "execution_count": 2,
   "metadata": {},
   "outputs": [],
   "source": [
    "df= pd.read_csv( 'covid_19_data.csv')"
   ]
  },
  {
   "cell_type": "code",
   "execution_count": 3,
   "metadata": {},
   "outputs": [
    {
     "output_type": "execute_result",
     "data": {
      "text/plain": "   SNo ObservationDate Province/State  Country/Region      Last Update  \\\n0    1      01/22/2020          Anhui  Mainland China  1/22/2020 17:00   \n1    2      01/22/2020        Beijing  Mainland China  1/22/2020 17:00   \n2    3      01/22/2020      Chongqing  Mainland China  1/22/2020 17:00   \n3    4      01/22/2020         Fujian  Mainland China  1/22/2020 17:00   \n4    5      01/22/2020          Gansu  Mainland China  1/22/2020 17:00   \n\n   Confirmed  Deaths  Recovered  \n0        1.0     0.0        0.0  \n1       14.0     0.0        0.0  \n2        6.0     0.0        0.0  \n3        1.0     0.0        0.0  \n4        0.0     0.0        0.0  ",
      "text/html": "<div>\n<style scoped>\n    .dataframe tbody tr th:only-of-type {\n        vertical-align: middle;\n    }\n\n    .dataframe tbody tr th {\n        vertical-align: top;\n    }\n\n    .dataframe thead th {\n        text-align: right;\n    }\n</style>\n<table border=\"1\" class=\"dataframe\">\n  <thead>\n    <tr style=\"text-align: right;\">\n      <th></th>\n      <th>SNo</th>\n      <th>ObservationDate</th>\n      <th>Province/State</th>\n      <th>Country/Region</th>\n      <th>Last Update</th>\n      <th>Confirmed</th>\n      <th>Deaths</th>\n      <th>Recovered</th>\n    </tr>\n  </thead>\n  <tbody>\n    <tr>\n      <th>0</th>\n      <td>1</td>\n      <td>01/22/2020</td>\n      <td>Anhui</td>\n      <td>Mainland China</td>\n      <td>1/22/2020 17:00</td>\n      <td>1.0</td>\n      <td>0.0</td>\n      <td>0.0</td>\n    </tr>\n    <tr>\n      <th>1</th>\n      <td>2</td>\n      <td>01/22/2020</td>\n      <td>Beijing</td>\n      <td>Mainland China</td>\n      <td>1/22/2020 17:00</td>\n      <td>14.0</td>\n      <td>0.0</td>\n      <td>0.0</td>\n    </tr>\n    <tr>\n      <th>2</th>\n      <td>3</td>\n      <td>01/22/2020</td>\n      <td>Chongqing</td>\n      <td>Mainland China</td>\n      <td>1/22/2020 17:00</td>\n      <td>6.0</td>\n      <td>0.0</td>\n      <td>0.0</td>\n    </tr>\n    <tr>\n      <th>3</th>\n      <td>4</td>\n      <td>01/22/2020</td>\n      <td>Fujian</td>\n      <td>Mainland China</td>\n      <td>1/22/2020 17:00</td>\n      <td>1.0</td>\n      <td>0.0</td>\n      <td>0.0</td>\n    </tr>\n    <tr>\n      <th>4</th>\n      <td>5</td>\n      <td>01/22/2020</td>\n      <td>Gansu</td>\n      <td>Mainland China</td>\n      <td>1/22/2020 17:00</td>\n      <td>0.0</td>\n      <td>0.0</td>\n      <td>0.0</td>\n    </tr>\n  </tbody>\n</table>\n</div>"
     },
     "metadata": {},
     "execution_count": 3
    }
   ],
   "source": [
    "df.head(5)"
   ]
  },
  {
   "cell_type": "code",
   "execution_count": 4,
   "metadata": {
    "tags": []
   },
   "outputs": [
    {
     "output_type": "stream",
     "name": "stdout",
     "text": "&lt;class &#39;pandas.core.frame.DataFrame&#39;&gt;\nRangeIndex: 116805 entries, 0 to 116804\nData columns (total 8 columns):\n #   Column           Non-Null Count   Dtype  \n---  ------           --------------   -----  \n 0   SNo              116805 non-null  int64  \n 1   ObservationDate  116805 non-null  object \n 2   Province/State   81452 non-null   object \n 3   Country/Region   116805 non-null  object \n 4   Last Update      116805 non-null  object \n 5   Confirmed        116805 non-null  float64\n 6   Deaths           116805 non-null  float64\n 7   Recovered        116805 non-null  float64\ndtypes: float64(3), int64(1), object(4)\nmemory usage: 7.1+ MB\n"
    }
   ],
   "source": [
    "df.info()\n"
   ]
  },
  {
   "cell_type": "code",
   "execution_count": 5,
   "metadata": {},
   "outputs": [],
   "source": [
    "#float_col = df.select_dtypes(include=['float64']) # This will select float columns only\n",
    "# list(float_col.columns.values)\n",
    "#for col in float_col.columns.values:\n",
    "#    df[col] = df[col].astype('int64')"
   ]
  },
  {
   "cell_type": "code",
   "execution_count": 6,
   "metadata": {
    "tags": []
   },
   "outputs": [
    {
     "output_type": "stream",
     "name": "stdout",
     "text": "&lt;class &#39;pandas.core.frame.DataFrame&#39;&gt;\nRangeIndex: 116805 entries, 0 to 116804\nData columns (total 8 columns):\n #   Column           Non-Null Count   Dtype  \n---  ------           --------------   -----  \n 0   SNo              116805 non-null  int64  \n 1   ObservationDate  116805 non-null  object \n 2   Province/State   81452 non-null   object \n 3   Country/Region   116805 non-null  object \n 4   Last Update      116805 non-null  object \n 5   Confirmed        116805 non-null  float64\n 6   Deaths           116805 non-null  float64\n 7   Recovered        116805 non-null  float64\ndtypes: float64(3), int64(1), object(4)\nmemory usage: 7.1+ MB\n"
    }
   ],
   "source": [
    "df.info()"
   ]
  },
  {
   "cell_type": "code",
   "execution_count": 7,
   "metadata": {},
   "outputs": [
    {
     "output_type": "execute_result",
     "data": {
      "text/plain": "                 SNo     Confirmed         Deaths     Recovered\ncount  116805.000000  1.168050e+05  116805.000000  1.168050e+05\nmean    58403.000000  1.908217e+04     777.745473  1.117002e+04\nstd     33718.843434  5.825465e+04    2859.184068  6.258701e+04\nmin         1.000000  0.000000e+00       0.000000  0.000000e+00\n25%     29202.000000  2.450000e+02       3.000000  4.000000e+00\n50%     58403.000000  2.148000e+03      42.000000  4.260000e+02\n75%     87604.000000  1.037400e+04     331.000000  3.829000e+03\nmax    116805.000000  1.242770e+06   42072.000000  2.670256e+06",
      "text/html": "<div>\n<style scoped>\n    .dataframe tbody tr th:only-of-type {\n        vertical-align: middle;\n    }\n\n    .dataframe tbody tr th {\n        vertical-align: top;\n    }\n\n    .dataframe thead th {\n        text-align: right;\n    }\n</style>\n<table border=\"1\" class=\"dataframe\">\n  <thead>\n    <tr style=\"text-align: right;\">\n      <th></th>\n      <th>SNo</th>\n      <th>Confirmed</th>\n      <th>Deaths</th>\n      <th>Recovered</th>\n    </tr>\n  </thead>\n  <tbody>\n    <tr>\n      <th>count</th>\n      <td>116805.000000</td>\n      <td>1.168050e+05</td>\n      <td>116805.000000</td>\n      <td>1.168050e+05</td>\n    </tr>\n    <tr>\n      <th>mean</th>\n      <td>58403.000000</td>\n      <td>1.908217e+04</td>\n      <td>777.745473</td>\n      <td>1.117002e+04</td>\n    </tr>\n    <tr>\n      <th>std</th>\n      <td>33718.843434</td>\n      <td>5.825465e+04</td>\n      <td>2859.184068</td>\n      <td>6.258701e+04</td>\n    </tr>\n    <tr>\n      <th>min</th>\n      <td>1.000000</td>\n      <td>0.000000e+00</td>\n      <td>0.000000</td>\n      <td>0.000000e+00</td>\n    </tr>\n    <tr>\n      <th>25%</th>\n      <td>29202.000000</td>\n      <td>2.450000e+02</td>\n      <td>3.000000</td>\n      <td>4.000000e+00</td>\n    </tr>\n    <tr>\n      <th>50%</th>\n      <td>58403.000000</td>\n      <td>2.148000e+03</td>\n      <td>42.000000</td>\n      <td>4.260000e+02</td>\n    </tr>\n    <tr>\n      <th>75%</th>\n      <td>87604.000000</td>\n      <td>1.037400e+04</td>\n      <td>331.000000</td>\n      <td>3.829000e+03</td>\n    </tr>\n    <tr>\n      <th>max</th>\n      <td>116805.000000</td>\n      <td>1.242770e+06</td>\n      <td>42072.000000</td>\n      <td>2.670256e+06</td>\n    </tr>\n  </tbody>\n</table>\n</div>"
     },
     "metadata": {},
     "execution_count": 7
    }
   ],
   "source": [
    "df.describe()"
   ]
  },
  {
   "cell_type": "code",
   "execution_count": 8,
   "metadata": {},
   "outputs": [
    {
     "output_type": "execute_result",
     "data": {
      "text/plain": "         Date      State         Country  Confirmed  Deaths  Recovered\n0  01/22/2020      Anhui  Mainland China        1.0     0.0        0.0\n1  01/22/2020    Beijing  Mainland China       14.0     0.0        0.0\n2  01/22/2020  Chongqing  Mainland China        6.0     0.0        0.0\n3  01/22/2020     Fujian  Mainland China        1.0     0.0        0.0\n4  01/22/2020      Gansu  Mainland China        0.0     0.0        0.0",
      "text/html": "<div>\n<style scoped>\n    .dataframe tbody tr th:only-of-type {\n        vertical-align: middle;\n    }\n\n    .dataframe tbody tr th {\n        vertical-align: top;\n    }\n\n    .dataframe thead th {\n        text-align: right;\n    }\n</style>\n<table border=\"1\" class=\"dataframe\">\n  <thead>\n    <tr style=\"text-align: right;\">\n      <th></th>\n      <th>Date</th>\n      <th>State</th>\n      <th>Country</th>\n      <th>Confirmed</th>\n      <th>Deaths</th>\n      <th>Recovered</th>\n    </tr>\n  </thead>\n  <tbody>\n    <tr>\n      <th>0</th>\n      <td>01/22/2020</td>\n      <td>Anhui</td>\n      <td>Mainland China</td>\n      <td>1.0</td>\n      <td>0.0</td>\n      <td>0.0</td>\n    </tr>\n    <tr>\n      <th>1</th>\n      <td>01/22/2020</td>\n      <td>Beijing</td>\n      <td>Mainland China</td>\n      <td>14.0</td>\n      <td>0.0</td>\n      <td>0.0</td>\n    </tr>\n    <tr>\n      <th>2</th>\n      <td>01/22/2020</td>\n      <td>Chongqing</td>\n      <td>Mainland China</td>\n      <td>6.0</td>\n      <td>0.0</td>\n      <td>0.0</td>\n    </tr>\n    <tr>\n      <th>3</th>\n      <td>01/22/2020</td>\n      <td>Fujian</td>\n      <td>Mainland China</td>\n      <td>1.0</td>\n      <td>0.0</td>\n      <td>0.0</td>\n    </tr>\n    <tr>\n      <th>4</th>\n      <td>01/22/2020</td>\n      <td>Gansu</td>\n      <td>Mainland China</td>\n      <td>0.0</td>\n      <td>0.0</td>\n      <td>0.0</td>\n    </tr>\n  </tbody>\n</table>\n</div>"
     },
     "metadata": {},
     "execution_count": 8
    }
   ],
   "source": [
    "df = df.drop(['SNo','Last Update'],axis=1)\n",
    "df = df.rename(columns={'ObservationDate':'Date','Province/State':'State','Country/Region':'Country'})\n",
    "df.head()\n"
   ]
  },
  {
   "cell_type": "code",
   "execution_count": 9,
   "metadata": {},
   "outputs": [
    {
     "output_type": "execute_result",
     "data": {
      "text/plain": "              Date              State         Country  Confirmed  Deaths  \\\n116800  09/23/2020  Zaporizhia Oblast         Ukraine     3149.0    49.0   \n116801  09/23/2020            Zeeland     Netherlands     1270.0    72.0   \n116802  09/23/2020           Zhejiang  Mainland China     1282.0     1.0   \n116803  09/23/2020    Zhytomyr Oblast         Ukraine     5191.0    92.0   \n116804  09/23/2020       Zuid-Holland     Netherlands    29513.0  1372.0   \n\n        Recovered  \n116800     1158.0  \n116801        0.0  \n116802     1272.0  \n116803     2853.0  \n116804        0.0  ",
      "text/html": "<div>\n<style scoped>\n    .dataframe tbody tr th:only-of-type {\n        vertical-align: middle;\n    }\n\n    .dataframe tbody tr th {\n        vertical-align: top;\n    }\n\n    .dataframe thead th {\n        text-align: right;\n    }\n</style>\n<table border=\"1\" class=\"dataframe\">\n  <thead>\n    <tr style=\"text-align: right;\">\n      <th></th>\n      <th>Date</th>\n      <th>State</th>\n      <th>Country</th>\n      <th>Confirmed</th>\n      <th>Deaths</th>\n      <th>Recovered</th>\n    </tr>\n  </thead>\n  <tbody>\n    <tr>\n      <th>116800</th>\n      <td>09/23/2020</td>\n      <td>Zaporizhia Oblast</td>\n      <td>Ukraine</td>\n      <td>3149.0</td>\n      <td>49.0</td>\n      <td>1158.0</td>\n    </tr>\n    <tr>\n      <th>116801</th>\n      <td>09/23/2020</td>\n      <td>Zeeland</td>\n      <td>Netherlands</td>\n      <td>1270.0</td>\n      <td>72.0</td>\n      <td>0.0</td>\n    </tr>\n    <tr>\n      <th>116802</th>\n      <td>09/23/2020</td>\n      <td>Zhejiang</td>\n      <td>Mainland China</td>\n      <td>1282.0</td>\n      <td>1.0</td>\n      <td>1272.0</td>\n    </tr>\n    <tr>\n      <th>116803</th>\n      <td>09/23/2020</td>\n      <td>Zhytomyr Oblast</td>\n      <td>Ukraine</td>\n      <td>5191.0</td>\n      <td>92.0</td>\n      <td>2853.0</td>\n    </tr>\n    <tr>\n      <th>116804</th>\n      <td>09/23/2020</td>\n      <td>Zuid-Holland</td>\n      <td>Netherlands</td>\n      <td>29513.0</td>\n      <td>1372.0</td>\n      <td>0.0</td>\n    </tr>\n  </tbody>\n</table>\n</div>"
     },
     "metadata": {},
     "execution_count": 9
    }
   ],
   "source": [
    "df.tail()\n"
   ]
  },
  {
   "cell_type": "code",
   "execution_count": 10,
   "metadata": {},
   "outputs": [
    {
     "output_type": "execute_result",
     "data": {
      "text/plain": "           Confirmed    Recovered      Deaths\nCountry                                      \nUS       557588267.0  174911575.0  21189260.0\nBrazil   301632363.0  230105907.0  10657805.0\nIndia    238342983.0  173210742.0   4630497.0\nRussia   101499236.0   70205110.0   1582441.0\nPeru      53724353.0   35921289.0   2184904.0",
      "text/html": "<div>\n<style scoped>\n    .dataframe tbody tr th:only-of-type {\n        vertical-align: middle;\n    }\n\n    .dataframe tbody tr th {\n        vertical-align: top;\n    }\n\n    .dataframe thead th {\n        text-align: right;\n    }\n</style>\n<table border=\"1\" class=\"dataframe\">\n  <thead>\n    <tr style=\"text-align: right;\">\n      <th></th>\n      <th>Confirmed</th>\n      <th>Recovered</th>\n      <th>Deaths</th>\n    </tr>\n    <tr>\n      <th>Country</th>\n      <th></th>\n      <th></th>\n      <th></th>\n    </tr>\n  </thead>\n  <tbody>\n    <tr>\n      <th>US</th>\n      <td>557588267.0</td>\n      <td>174911575.0</td>\n      <td>21189260.0</td>\n    </tr>\n    <tr>\n      <th>Brazil</th>\n      <td>301632363.0</td>\n      <td>230105907.0</td>\n      <td>10657805.0</td>\n    </tr>\n    <tr>\n      <th>India</th>\n      <td>238342983.0</td>\n      <td>173210742.0</td>\n      <td>4630497.0</td>\n    </tr>\n    <tr>\n      <th>Russia</th>\n      <td>101499236.0</td>\n      <td>70205110.0</td>\n      <td>1582441.0</td>\n    </tr>\n    <tr>\n      <th>Peru</th>\n      <td>53724353.0</td>\n      <td>35921289.0</td>\n      <td>2184904.0</td>\n    </tr>\n  </tbody>\n</table>\n</div>"
     },
     "metadata": {},
     "execution_count": 10
    }
   ],
   "source": [
    "confirmed = df.groupby(['Country']).sum()[['Confirmed','Recovered','Deaths']].sort_values(by=['Confirmed'], ascending=False)\n",
    "confirmed.head()"
   ]
  },
  {
   "source": [
    "df.Date = pd.to_datetime(df.Date.astype(str), dayfirst=True, errors='coerce')"
   ],
   "cell_type": "code",
   "metadata": {},
   "execution_count": 11,
   "outputs": []
  },
  {
   "cell_type": "code",
   "execution_count": 12,
   "metadata": {},
   "outputs": [
    {
     "output_type": "execute_result",
     "data": {
      "text/plain": "0   2020-01-22\n1   2020-01-22\n2   2020-01-22\n3   2020-01-22\n4   2020-01-22\nName: Date, dtype: datetime64[ns]"
     },
     "metadata": {},
     "execution_count": 12
    }
   ],
   "source": [
    "df.Date.head()"
   ]
  },
  {
   "cell_type": "code",
   "execution_count": 13,
   "metadata": {
    "tags": []
   },
   "outputs": [
    {
     "output_type": "stream",
     "name": "stdout",
     "text": "&lt;class &#39;pandas.core.frame.DataFrame&#39;&gt;\nRangeIndex: 116805 entries, 0 to 116804\nData columns (total 6 columns):\n #   Column     Non-Null Count   Dtype         \n---  ------     --------------   -----         \n 0   Date       116805 non-null  datetime64[ns]\n 1   State      81452 non-null   object        \n 2   Country    116805 non-null  object        \n 3   Confirmed  116805 non-null  float64       \n 4   Deaths     116805 non-null  float64       \n 5   Recovered  116805 non-null  float64       \ndtypes: datetime64[ns](1), float64(3), object(2)\nmemory usage: 5.3+ MB\n"
    }
   ],
   "source": [
    "df.info()"
   ]
  },
  {
   "cell_type": "code",
   "execution_count": 14,
   "metadata": {
    "tags": []
   },
   "outputs": [
    {
     "output_type": "execute_result",
     "data": {
      "text/plain": "        Date   Confirmed\n0 2020-01-02     12038.0\n1 2020-01-03    100409.0\n2 2020-01-04   1033014.0\n3 2020-01-05   4376791.0\n4 2020-01-06  10642643.0\n5 2020-01-07  21335194.0\n6 2020-01-08  39185673.0\n7 2020-01-09  64935315.0\n8 2020-01-22  64935870.0\n9 2020-01-23  64936523.0",
      "text/html": "<div>\n<style scoped>\n    .dataframe tbody tr th:only-of-type {\n        vertical-align: middle;\n    }\n\n    .dataframe tbody tr th {\n        vertical-align: top;\n    }\n\n    .dataframe thead th {\n        text-align: right;\n    }\n</style>\n<table border=\"1\" class=\"dataframe\">\n  <thead>\n    <tr style=\"text-align: right;\">\n      <th></th>\n      <th>Date</th>\n      <th>Confirmed</th>\n    </tr>\n  </thead>\n  <tbody>\n    <tr>\n      <th>0</th>\n      <td>2020-01-02</td>\n      <td>12038.0</td>\n    </tr>\n    <tr>\n      <th>1</th>\n      <td>2020-01-03</td>\n      <td>100409.0</td>\n    </tr>\n    <tr>\n      <th>2</th>\n      <td>2020-01-04</td>\n      <td>1033014.0</td>\n    </tr>\n    <tr>\n      <th>3</th>\n      <td>2020-01-05</td>\n      <td>4376791.0</td>\n    </tr>\n    <tr>\n      <th>4</th>\n      <td>2020-01-06</td>\n      <td>10642643.0</td>\n    </tr>\n    <tr>\n      <th>5</th>\n      <td>2020-01-07</td>\n      <td>21335194.0</td>\n    </tr>\n    <tr>\n      <th>6</th>\n      <td>2020-01-08</td>\n      <td>39185673.0</td>\n    </tr>\n    <tr>\n      <th>7</th>\n      <td>2020-01-09</td>\n      <td>64935315.0</td>\n    </tr>\n    <tr>\n      <th>8</th>\n      <td>2020-01-22</td>\n      <td>64935870.0</td>\n    </tr>\n    <tr>\n      <th>9</th>\n      <td>2020-01-23</td>\n      <td>64936523.0</td>\n    </tr>\n  </tbody>\n</table>\n</div>"
     },
     "metadata": {},
     "execution_count": 14
    }
   ],
   "source": [
    "cumulative_confirmed = df.groupby('Date').Confirmed.sum()\n",
    "cumulative_confirmed = cumulative_confirmed.groupby(cumulative_confirmed.index.to_period('y')).cumsum().reset_index()\n",
    "cumulative_confirmed.head(10)\n"
   ]
  },
  {
   "cell_type": "code",
   "execution_count": 15,
   "metadata": {},
   "outputs": [
    {
     "output_type": "execute_result",
     "data": {
      "text/plain": "        Date   Recovered\n0 2020-01-02       284.0\n1 2020-01-03     43000.0\n2 2020-01-04    236171.0\n3 2020-01-05   1289498.0\n4 2020-01-06   3985507.0\n5 2020-01-07   9563191.0\n6 2020-01-08  20116776.0\n7 2020-01-09  37191162.0\n8 2020-01-22  37191190.0\n9 2020-01-23  37191220.0",
      "text/html": "<div>\n<style scoped>\n    .dataframe tbody tr th:only-of-type {\n        vertical-align: middle;\n    }\n\n    .dataframe tbody tr th {\n        vertical-align: top;\n    }\n\n    .dataframe thead th {\n        text-align: right;\n    }\n</style>\n<table border=\"1\" class=\"dataframe\">\n  <thead>\n    <tr style=\"text-align: right;\">\n      <th></th>\n      <th>Date</th>\n      <th>Recovered</th>\n    </tr>\n  </thead>\n  <tbody>\n    <tr>\n      <th>0</th>\n      <td>2020-01-02</td>\n      <td>284.0</td>\n    </tr>\n    <tr>\n      <th>1</th>\n      <td>2020-01-03</td>\n      <td>43000.0</td>\n    </tr>\n    <tr>\n      <th>2</th>\n      <td>2020-01-04</td>\n      <td>236171.0</td>\n    </tr>\n    <tr>\n      <th>3</th>\n      <td>2020-01-05</td>\n      <td>1289498.0</td>\n    </tr>\n    <tr>\n      <th>4</th>\n      <td>2020-01-06</td>\n      <td>3985507.0</td>\n    </tr>\n    <tr>\n      <th>5</th>\n      <td>2020-01-07</td>\n      <td>9563191.0</td>\n    </tr>\n    <tr>\n      <th>6</th>\n      <td>2020-01-08</td>\n      <td>20116776.0</td>\n    </tr>\n    <tr>\n      <th>7</th>\n      <td>2020-01-09</td>\n      <td>37191162.0</td>\n    </tr>\n    <tr>\n      <th>8</th>\n      <td>2020-01-22</td>\n      <td>37191190.0</td>\n    </tr>\n    <tr>\n      <th>9</th>\n      <td>2020-01-23</td>\n      <td>37191220.0</td>\n    </tr>\n  </tbody>\n</table>\n</div>"
     },
     "metadata": {},
     "execution_count": 15
    }
   ],
   "source": [
    "cumulative_recovered = df.groupby('Date').Recovered.sum()\n",
    "cumulative_recovered = cumulative_recovered.groupby(cumulative_recovered.index.to_period('y')).cumsum().reset_index()\n",
    "cumulative_recovered.head(10)\n"
   ]
  },
  {
   "cell_type": "code",
   "execution_count": 16,
   "metadata": {},
   "outputs": [
    {
     "output_type": "execute_result",
     "data": {
      "text/plain": "        Date     Deaths\n0 2020-01-02      259.0\n1 2020-01-03     3255.0\n2 2020-01-04    50064.0\n3 2020-01-05   288714.0\n4 2020-01-06   664257.0\n5 2020-01-07  1180467.0\n6 2020-01-08  1865528.0\n7 2020-01-09  2722543.0\n8 2020-01-22  2722560.0\n9 2020-01-23  2722578.0",
      "text/html": "<div>\n<style scoped>\n    .dataframe tbody tr th:only-of-type {\n        vertical-align: middle;\n    }\n\n    .dataframe tbody tr th {\n        vertical-align: top;\n    }\n\n    .dataframe thead th {\n        text-align: right;\n    }\n</style>\n<table border=\"1\" class=\"dataframe\">\n  <thead>\n    <tr style=\"text-align: right;\">\n      <th></th>\n      <th>Date</th>\n      <th>Deaths</th>\n    </tr>\n  </thead>\n  <tbody>\n    <tr>\n      <th>0</th>\n      <td>2020-01-02</td>\n      <td>259.0</td>\n    </tr>\n    <tr>\n      <th>1</th>\n      <td>2020-01-03</td>\n      <td>3255.0</td>\n    </tr>\n    <tr>\n      <th>2</th>\n      <td>2020-01-04</td>\n      <td>50064.0</td>\n    </tr>\n    <tr>\n      <th>3</th>\n      <td>2020-01-05</td>\n      <td>288714.0</td>\n    </tr>\n    <tr>\n      <th>4</th>\n      <td>2020-01-06</td>\n      <td>664257.0</td>\n    </tr>\n    <tr>\n      <th>5</th>\n      <td>2020-01-07</td>\n      <td>1180467.0</td>\n    </tr>\n    <tr>\n      <th>6</th>\n      <td>2020-01-08</td>\n      <td>1865528.0</td>\n    </tr>\n    <tr>\n      <th>7</th>\n      <td>2020-01-09</td>\n      <td>2722543.0</td>\n    </tr>\n    <tr>\n      <th>8</th>\n      <td>2020-01-22</td>\n      <td>2722560.0</td>\n    </tr>\n    <tr>\n      <th>9</th>\n      <td>2020-01-23</td>\n      <td>2722578.0</td>\n    </tr>\n  </tbody>\n</table>\n</div>"
     },
     "metadata": {},
     "execution_count": 16
    }
   ],
   "source": [
    "cumulative_deaths = df.groupby('Date').Deaths.sum()\n",
    "cumulative_deaths = cumulative_deaths.groupby(cumulative_deaths.index.to_period('y')).cumsum().reset_index()\n",
    "cumulative_deaths.head(10)"
   ]
  },
  {
   "cell_type": "code",
   "execution_count": 17,
   "metadata": {},
   "outputs": [
    {
     "output_type": "execute_result",
     "data": {
      "text/plain": "        Date   Recovered   Confirmed     Deaths\n0 2020-01-02       284.0     12038.0      259.0\n1 2020-01-03     43000.0    100409.0     3255.0\n2 2020-01-04    236171.0   1033014.0    50064.0\n3 2020-01-05   1289498.0   4376791.0   288714.0\n4 2020-01-06   3985507.0  10642643.0   664257.0\n5 2020-01-07   9563191.0  21335194.0  1180467.0\n6 2020-01-08  20116776.0  39185673.0  1865528.0\n7 2020-01-09  37191162.0  64935315.0  2722543.0\n8 2020-01-22  37191190.0  64935870.0  2722560.0\n9 2020-01-23  37191220.0  64936523.0  2722578.0",
      "text/html": "<div>\n<style scoped>\n    .dataframe tbody tr th:only-of-type {\n        vertical-align: middle;\n    }\n\n    .dataframe tbody tr th {\n        vertical-align: top;\n    }\n\n    .dataframe thead th {\n        text-align: right;\n    }\n</style>\n<table border=\"1\" class=\"dataframe\">\n  <thead>\n    <tr style=\"text-align: right;\">\n      <th></th>\n      <th>Date</th>\n      <th>Recovered</th>\n      <th>Confirmed</th>\n      <th>Deaths</th>\n    </tr>\n  </thead>\n  <tbody>\n    <tr>\n      <th>0</th>\n      <td>2020-01-02</td>\n      <td>284.0</td>\n      <td>12038.0</td>\n      <td>259.0</td>\n    </tr>\n    <tr>\n      <th>1</th>\n      <td>2020-01-03</td>\n      <td>43000.0</td>\n      <td>100409.0</td>\n      <td>3255.0</td>\n    </tr>\n    <tr>\n      <th>2</th>\n      <td>2020-01-04</td>\n      <td>236171.0</td>\n      <td>1033014.0</td>\n      <td>50064.0</td>\n    </tr>\n    <tr>\n      <th>3</th>\n      <td>2020-01-05</td>\n      <td>1289498.0</td>\n      <td>4376791.0</td>\n      <td>288714.0</td>\n    </tr>\n    <tr>\n      <th>4</th>\n      <td>2020-01-06</td>\n      <td>3985507.0</td>\n      <td>10642643.0</td>\n      <td>664257.0</td>\n    </tr>\n    <tr>\n      <th>5</th>\n      <td>2020-01-07</td>\n      <td>9563191.0</td>\n      <td>21335194.0</td>\n      <td>1180467.0</td>\n    </tr>\n    <tr>\n      <th>6</th>\n      <td>2020-01-08</td>\n      <td>20116776.0</td>\n      <td>39185673.0</td>\n      <td>1865528.0</td>\n    </tr>\n    <tr>\n      <th>7</th>\n      <td>2020-01-09</td>\n      <td>37191162.0</td>\n      <td>64935315.0</td>\n      <td>2722543.0</td>\n    </tr>\n    <tr>\n      <th>8</th>\n      <td>2020-01-22</td>\n      <td>37191190.0</td>\n      <td>64935870.0</td>\n      <td>2722560.0</td>\n    </tr>\n    <tr>\n      <th>9</th>\n      <td>2020-01-23</td>\n      <td>37191220.0</td>\n      <td>64936523.0</td>\n      <td>2722578.0</td>\n    </tr>\n  </tbody>\n</table>\n</div>"
     },
     "metadata": {},
     "execution_count": 17
    }
   ],
   "source": [
    "cumulative_final=pd.concat([cumulative_recovered,cumulative_confirmed.drop(['Date'],axis =1),cumulative_deaths.drop(['Date'],axis =1)],axis=1,sort=False)\n",
    "cumulative_final.head(10)"
   ]
  },
  {
   "cell_type": "code",
   "execution_count": null,
   "metadata": {},
   "outputs": [],
   "source": []
  }
 ]
}